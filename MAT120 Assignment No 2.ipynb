{
  "nbformat": 4,
  "nbformat_minor": 0,
  "metadata": {
    "colab": {
      "provenance": []
    },
    "kernelspec": {
      "name": "python3",
      "display_name": "Python 3"
    },
    "language_info": {
      "name": "python"
    }
  },
  "cells": [
    {
      "cell_type": "code",
      "execution_count": 20,
      "metadata": {
        "colab": {
          "base_uri": "https://localhost:8080/"
        },
        "id": "KTmJYZEQUvA5",
        "outputId": "ad523920-78cf-48c5-d85f-8013300ab7bf"
      },
      "outputs": [
        {
          "output_type": "stream",
          "name": "stdout",
          "text": [
            "Maximum volume of that cylinder :  1024*pi\n"
          ]
        }
      ],
      "source": [
        "import sympy as sp\n",
        "r, h = sp.symbols('r h')\n",
        "S = 384 * sp.pi\n",
        "radius = None\n",
        "surface_area_eq = 2 * sp.pi * r * (h + r)\n",
        "h = sp.solve(surface_area_eq - S, h)[0]\n",
        "volume_expr = sp.pi * r**2 * h\n",
        "first_derivative = sp.diff(volume_expr, r)\n",
        "critical_points = sp.solve(first_derivative, r)\n",
        "for i in range (len(critical_points)):\n",
        "  if critical_points[i]  > -1:\n",
        "    radius = critical_points[i]\n",
        "max_height = h.subs(r,radius)\n",
        "maximum_Volume  = volume_expr.subs([(r,radius),(h,max_height)])\n",
        "print(\"Maximum volume of that cylinder : \",maximum_Volume)"
      ]
    }
  ]
}