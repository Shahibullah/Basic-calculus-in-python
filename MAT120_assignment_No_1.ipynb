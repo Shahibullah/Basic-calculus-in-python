{
  "nbformat": 4,
  "nbformat_minor": 0,
  "metadata": {
    "colab": {
      "provenance": []
    },
    "kernelspec": {
      "name": "python3",
      "display_name": "Python 3"
    },
    "language_info": {
      "name": "python"
    }
  },
  "cells": [
    {
      "cell_type": "code",
      "source": [
        "#1) y(x) = x ^ 3 - 3x ^ 2 - 45x + 13  ,  Up to 3rd derivative and putting x= 1 in frist derivative\n",
        "import sympy as sp\n",
        "temp = \"\"\n",
        "no = [None,\"1st\",\"2nd\",\"3rd\"]\n",
        "flg = True\n",
        "x = sp.symbols('x')\n",
        "our_function = (x**3)-3*(x**2)-45*x+13\n",
        "for i in range(1, 4):\n",
        "  derivative_of_this_function = sp.diff(our_function, x)\n",
        "  temp += (f\"Our {no[i]} Derivative : {derivative_of_this_function}\\n\")\n",
        "  if flg == True:\n",
        "    our_frist_derivative = derivative_of_this_function\n",
        "    flg = False\n",
        "  our_function = derivative_of_this_function\n",
        "print(temp)\n",
        "putting_the_value_of_x = our_frist_derivative.subs(x,1)\n",
        "print(f'After we putting x = 1 in the frist derivative , we will get {putting_the_value_of_x}')"
      ],
      "metadata": {
        "colab": {
          "base_uri": "https://localhost:8080/"
        },
        "id": "mxLjq4mFLUod",
        "outputId": "8190a488-3abb-4747-e828-eeeb3c3c55eb"
      },
      "execution_count": 20,
      "outputs": [
        {
          "output_type": "stream",
          "name": "stdout",
          "text": [
            "Our 1st Derivative : 3*x**2 - 6*x - 45\n",
            "Our 2nd Derivative : 6*x - 6\n",
            "Our 3rd Derivative : 6\n",
            "\n",
            "After we putting x = 1 in the frist derivative , we will get -48\n"
          ]
        }
      ]
    },
    {
      "cell_type": "code",
      "source": [
        "#2) y(x) = atan(x). ,  Up to 3rd derivative and putting x= 1 in frist derivative\n",
        "import sympy as sp\n",
        "x = sp.symbols('x')\n",
        "no = [None,\"1st\",\"2nd\",\"3rd\"]\n",
        "flg = True\n",
        "our_function = sp.atan(x)\n",
        "temp = \"\"\n",
        "for i in range(1, 4):\n",
        "    derivative_of_this_function = sp.diff(our_function, x)\n",
        "    temp += f\"Our {no[i]} Derivative : {str(derivative_of_this_function)}\\n\"\n",
        "    if flg == True:\n",
        "      our_frist_derivative = derivative_of_this_function\n",
        "      flg = False\n",
        "    our_function = derivative_of_this_function\n",
        "print(temp)\n",
        "putting_the_value_of_x = our_frist_derivative.subs(x,1)\n",
        "print(f'After we putting x = 1 in the frist derivative , we will get {putting_the_value_of_x}')"
      ],
      "metadata": {
        "colab": {
          "base_uri": "https://localhost:8080/"
        },
        "id": "P6EMiMfiGihu",
        "outputId": "324dad26-17c1-4f82-9e73-ad044e850c9f"
      },
      "execution_count": 24,
      "outputs": [
        {
          "output_type": "stream",
          "name": "stdout",
          "text": [
            "Our 1st Derivative : 1/(x**2 + 1)\n",
            "Our 2nd Derivative : -2*x/(x**2 + 1)**2\n",
            "Our 3rd Derivative : 8*x**2/(x**2 + 1)**3 - 2/(x**2 + 1)**2\n",
            "\n",
            "After we putting x = 1 in the frist derivative , we will get 1/2\n"
          ]
        }
      ]
    },
    {
      "cell_type": "code",
      "source": [
        "#3) y(x) = (e)^x − (e)^−x ,  Up to 3rd derivative and putting x= 1 in frist derivative\n",
        "import sympy as sp\n",
        "x = sp.symbols('x')\n",
        "no = [None, \"1st\", \"2nd\", \"3rd\"]\n",
        "flg = True\n",
        "temp = \"\"\n",
        "our_function = sp.exp(x) + sp.exp(-x)\n",
        "for i in range(1, 4):\n",
        "    derivative_of_this_function = sp.diff(our_function, x)\n",
        "    temp += f\"Our {no[i]} Derivative: {str(derivative_of_this_function)}\\n\"\n",
        "    if flg:\n",
        "        our_first_derivative = derivative_of_this_function\n",
        "        flg = False\n",
        "    our_function = derivative_of_this_function\n",
        "print(temp)\n",
        "putting_the_value_of_x = our_first_derivative.subs(x, 1)\n",
        "print(f'After we put x = 1 in the first derivative, we get {putting_the_value_of_x}')"
      ],
      "metadata": {
        "colab": {
          "base_uri": "https://localhost:8080/"
        },
        "id": "8YCHb88pJdnD",
        "outputId": "436187ce-59b7-4767-ec3a-c06f509d8657"
      },
      "execution_count": 23,
      "outputs": [
        {
          "output_type": "stream",
          "name": "stdout",
          "text": [
            "Our 1st Derivative: exp(x) - exp(-x)\n",
            "Our 2nd Derivative: exp(x) + exp(-x)\n",
            "Our 3rd Derivative: exp(x) - exp(-x)\n",
            "\n",
            "After we put x = 1 in the first derivative, we get E - exp(-1)\n"
          ]
        }
      ]
    }
  ]
}