{
  "nbformat": 4,
  "nbformat_minor": 0,
  "metadata": {
    "colab": {
      "provenance": []
    },
    "kernelspec": {
      "name": "python3",
      "display_name": "Python 3"
    },
    "language_info": {
      "name": "python"
    }
  },
  "cells": [
    {
      "cell_type": "code",
      "source": [
        "#--------------------------------------------------------------Bisection Method------------------------------------------------#\n",
        "\n",
        "#  The Lighthouse Search Problem:\n",
        "\n",
        "#  You are a captain navigating a ship at night, trying to locate a lighthouse on the shoreline. The lighthouse is\n",
        "#  positioned somewhere between two known locations on the coastline: Location A (at 0 meters) and Location\n",
        "#  B(at 300 meters). Your radar gives you information about the angle of the lighthouse beam, which follows a\n",
        "#  certain pattern based on the distance x from Location A.\n",
        "\n",
        "#  The beam intensity is described by the following equation:\n",
        "#  f(x) = sin(πx/L + C)\n",
        "#  Where:\n",
        "#  ● x is the distance from Location A (in meters).\n",
        "#  ● L is the length of the coastline (300 meters).\n",
        "#  ● C is the last three digits of your student ID divided by 1000.(ID 22301025)\n",
        "#  ● f(x) is the beam intensity: if f(x) = 0, you've found the lighthouse.\n",
        "#  After four stages, estimate the position of the lighthouse using the bisection method.\n",
        "import numpy as np\n",
        "def given_function(x):\n",
        "    return np.sin((np.pi * x / 300) + 0.025)\n",
        "def processing_function(a, b):\n",
        "    i = 0\n",
        "    while i < 4:\n",
        "        c = (a + b) / 2\n",
        "        fc = given_function(c)\n",
        "        if given_function(b) * fc < 0:\n",
        "            a = c\n",
        "        elif fc * given_function(a) < 0:\n",
        "            b = c\n",
        "        print(f\"Iteration {i + 1}: a = {a}, b = {b}, c = {c}, f(a) = {given_function(a)}, f(b) = {given_function(b)}, f(c) = {fc}\")\n",
        "        i += 1\n",
        "    return (a + b) / 2\n",
        "d = processing_function(0, 300)\n",
        "print(f\"The estimated position of the lighthouse is at x = {d} meters.\")\n"
      ],
      "metadata": {
        "id": "LiUc4D0Oh4aK",
        "outputId": "20756314-2427-4b3e-998c-6913acdc642a",
        "colab": {
          "base_uri": "https://localhost:8080/"
        }
      },
      "execution_count": 12,
      "outputs": [
        {
          "output_type": "stream",
          "name": "stdout",
          "text": [
            "Iteration 1: a = 150.0, b = 300, c = 150.0, f(a) = 0.9996875162757026, f(b) = -0.02499739591471212, f(c) = 0.9996875162757026\n",
            "Iteration 2: a = 225.0, b = 300, c = 225.0, f(a) = 0.6892099936627886, f(b) = -0.02499739591471212, f(c) = 0.6892099936627886\n",
            "Iteration 3: a = 262.5, b = 300, c = 262.5, f(a) = 0.35946926756923364, f(b) = -0.02499739591471212, f(c) = 0.35946926756923364\n",
            "Iteration 4: a = 281.25, b = 300, c = 281.25, f(a) = 0.17051228150416856, f(b) = -0.02499739591471212, f(c) = 0.17051228150416856\n",
            "The estimated position of the lighthouse is at x = 290.625 meters.\n"
          ]
        }
      ]
    }
  ]
}